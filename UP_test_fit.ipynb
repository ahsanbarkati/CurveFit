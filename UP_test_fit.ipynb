{
 "cells": [
  {
   "cell_type": "code",
   "execution_count": 1,
   "metadata": {},
   "outputs": [],
   "source": [
    "import scipy\n",
    "import sys\n",
    "import pandas\n",
    "import numpy\n",
    "import matplotlib.pyplot as plt\n",
    "import numpy as np\n",
    "import curvefit"
   ]
  },
  {
   "cell_type": "code",
   "execution_count": 14,
   "metadata": {},
   "outputs": [],
   "source": [
    "# f(t, alpha, beta, p)\n",
    "def generalized_logistic(t, params) :\n",
    "    alpha = params[0]\n",
    "    beta  = params[1]\n",
    "    p     = params[2]\n",
    "    return p / ( 1.0 + numpy.exp( - alpha * ( t - beta ) ) )\n",
    "#\n",
    "# identity function\n",
    "def identity_fun(x) :\n",
    "    return x\n",
    "#\n",
    "# link function used for alpha, p\n",
    "def exp_fun(x) :\n",
    "    return numpy.exp(x)\n",
    "#\n",
    "# inverse of function used for alpha, p\n",
    "def log_fun(x) :\n",
    "    return numpy.log(x)\n",
    "\n",
    "dataset = pandas.read_csv('dataset_for_CurveFit_updated.csv')\n",
    "dataset = dataset.drop(['Date', 'Unnamed: 0'], axis=1)\n",
    "state_len = {}\n",
    "\n",
    "for state in dataset.State.unique():\n",
    "    state_len[state] = {'population': max(dataset[dataset[\"State\"] == state][\"StatePopulation\"])/1000000, 'days': len(dataset[dataset[\"State\"] == state][\"DateI\"]), 'confirmed_high': max(dataset[dataset[\"State\"] == state][\"Confirmed\"])}\n",
    "    #dataset.loc[dataset[\"State\"] == state, \"Confirmed\"]=numpy.log(dataset[dataset[\"State\"] == state][\"Confirmed\"]/state_len[state]['confirmed_high'])\n",
    "    dataset.loc[dataset[\"State\"] == state, \"DateI\"] = dataset[dataset[\"State\"] == state][\"DateI\"]\n",
    "\n",
    "n_data = dataset.shape[0]\n",
    "dataset[\"constant_one\"] = n_data * [1.0]\n",
    "dataset[\"SE\"] = n_data * [0.1]"
   ]
  },
  {
   "cell_type": "code",
   "execution_count": 15,
   "metadata": {},
   "outputs": [],
   "source": [
    "dataset_UP = dataset[dataset['State'] == \"Uttar Pradesh\"]"
   ]
  },
  {
   "cell_type": "code",
   "execution_count": 16,
   "metadata": {},
   "outputs": [],
   "source": [
    "num_params   = 3\n",
    "num_fe       = 3\n",
    "beta_true    = 20.0             \n",
    "alpha_true   = 2.0 / beta_true  \n",
    "p_true       = 0.1  \n",
    "params_true = numpy.array( [ alpha_true, beta_true, p_true ] )\n",
    "# curve_model\n",
    "col_t        = 'DateI'\n",
    "col_obs      = 'Confirmed'\n",
    "col_covs     = num_params *[ [ 'DaysCovariate' ] ]\n",
    "col_group    = 'State'\n",
    "param_names  = [ 'alpha', 'beta',       'p'     ]\n",
    "link_fun     = [ exp_fun, identity_fun, exp_fun ]\n",
    "var_link_fun = num_fe * [ identity_fun ]\n",
    "fun          = generalized_logistic\n",
    "col_obs_se   = 'SE'\n",
    "\n",
    "curve_model = curvefit.core.model.CurveModel(\n",
    "    dataset_UP,\n",
    "    col_t,\n",
    "    col_obs,\n",
    "    col_covs,\n",
    "    col_group,\n",
    "    param_names,\n",
    "    link_fun,\n",
    "    var_link_fun,\n",
    "    fun,\n",
    "    col_obs_se\n",
    ")"
   ]
  },
  {
   "cell_type": "code",
   "execution_count": 17,
   "metadata": {},
   "outputs": [],
   "source": [
    "inv_link_fun = [ log_fun, identity_fun, log_fun ]\n",
    "fe_init      = numpy.zeros( num_fe )\n",
    "for i in range(num_fe) :\n",
    "    fe_init[i]   = inv_link_fun[i](params_true[i]) / 3.0\n",
    "\n",
    "re_init   = numpy.zeros( num_fe )\n",
    "fe_bounds = [ [-numpy.inf, numpy.inf] ] * num_fe\n",
    "re_bounds = [ [0.0, 0.0] ] * num_fe\n",
    "options={\n",
    "    'ftol' : 1e-12,\n",
    "    'gtol' : 1e-12,\n",
    "}\n",
    "#\n",
    "curve_model.fit_params(\n",
    "    fe_init,\n",
    "    re_init,\n",
    "    fe_bounds,\n",
    "    re_bounds,\n",
    "    options=options\n",
    ")\n",
    "\n",
    "params_estimate = curve_model.params"
   ]
  },
  {
   "cell_type": "code",
   "execution_count": 18,
   "metadata": {},
   "outputs": [
    {
     "data": {
      "text/plain": [
       "array([[ 1.07548187],\n",
       "       [13.27381599],\n",
       "       [ 0.77343462]])"
      ]
     },
     "execution_count": 18,
     "metadata": {},
     "output_type": "execute_result"
    }
   ],
   "source": [
    "curve_model.params"
   ]
  },
  {
   "cell_type": "code",
   "execution_count": 19,
   "metadata": {},
   "outputs": [
    {
     "data": {
      "text/plain": [
       "[<matplotlib.lines.Line2D at 0x7f49a9a618d0>]"
      ]
     },
     "execution_count": 19,
     "metadata": {},
     "output_type": "execute_result"
    },
    {
     "data": {
      "image/png": "[encoded data removed]",
      "text/plain": [
       "<Figure size 432x288 with 1 Axes>"
      ]
     },
     "metadata": {
      "needs_background": "light"
     },
     "output_type": "display_data"
    }
   ],
   "source": [
    "x = dataset[dataset['State'] == \"Uttar Pradesh\"]['DateI']\n",
    "y_curve = generalized_logistic(x, curve_model.params)\n",
    "y_actual = dataset[dataset['State'] == \"Uttar Pradesh\"]['Confirmed']\n",
    "plt.plot(x, y_curve)\n",
    "plt.plot(x, y_actual)"
   ]
  },
  {
   "cell_type": "code",
   "execution_count": null,
   "metadata": {},
   "outputs": [],
   "source": []
  }
 ],
 "metadata": {
  "kernelspec": {
   "display_name": "Python 3",
   "language": "python",
   "name": "python3"
  },
  "language_info": {
   "codemirror_mode": {
    "name": "ipython",
    "version": 3
   },
   "file_extension": ".py",
   "mimetype": "text/x-python",
   "name": "python",
   "nbconvert_exporter": "python",
   "pygments_lexer": "ipython3",
   "version": "3.5.2"
  }
 },
 "nbformat": 4,
 "nbformat_minor": 4
}
